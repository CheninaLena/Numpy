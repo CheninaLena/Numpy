{
  "nbformat": 4,
  "nbformat_minor": 0,
  "metadata": {
    "colab": {
      "provenance": [],
      "authorship_tag": "ABX9TyMiLqu8kf4ZnsghkniYDKkx",
      "include_colab_link": true
    },
    "kernelspec": {
      "name": "python3",
      "display_name": "Python 3"
    },
    "language_info": {
      "name": "python"
    }
  },
  "cells": [
    {
      "cell_type": "markdown",
      "metadata": {
        "id": "view-in-github",
        "colab_type": "text"
      },
      "source": [
        "<a href=\"https://colab.research.google.com/github/CheninaLena/Numpy/blob/main/untitled2.ipynb\" target=\"_parent\"><img src=\"https://colab.research.google.com/assets/colab-badge.svg\" alt=\"Open In Colab\"/></a>"
      ]
    },
    {
      "cell_type": "code",
      "execution_count": null,
      "metadata": {
        "colab": {
          "base_uri": "https://localhost:8080/"
        },
        "id": "WtPBD2yJiNO1",
        "outputId": "9a272166-d905-421f-c474-15140554dfaa"
      },
      "outputs": [
        {
          "output_type": "stream",
          "name": "stdout",
          "text": [
            "Hi!\n"
          ]
        }
      ],
      "source": [
        "print('Hi!')"
      ]
    },
    {
      "cell_type": "markdown",
      "source": [
        "Импортируйте библиотеку NunPy"
      ],
      "metadata": {
        "id": "eDOlq74bign_"
      }
    },
    {
      "cell_type": "code",
      "source": [
        "import numpy as np"
      ],
      "metadata": {
        "id": "Oin4ZcuyinPf"
      },
      "execution_count": 41,
      "outputs": []
    },
    {
      "cell_type": "markdown",
      "source": [
        "создайте массив из 10 нулей"
      ],
      "metadata": {
        "id": "rpt-z6qCitF3"
      }
    },
    {
      "cell_type": "code",
      "source": [
        "a=np.zeros(10)\n",
        "print(a)"
      ],
      "metadata": {
        "colab": {
          "base_uri": "https://localhost:8080/"
        },
        "id": "0AcuMDAHiyg_",
        "outputId": "b98900be-3786-4434-9e28-705283def431"
      },
      "execution_count": 3,
      "outputs": [
        {
          "output_type": "stream",
          "name": "stdout",
          "text": [
            "[0. 0. 0. 0. 0. 0. 0. 0. 0. 0.]\n"
          ]
        }
      ]
    },
    {
      "cell_type": "markdown",
      "source": [
        "создайте массив из 10 единиц"
      ],
      "metadata": {
        "id": "B4Ywg6RslBz3"
      }
    },
    {
      "cell_type": "code",
      "source": [
        "b=np.ones(10)\n",
        "print(b)"
      ],
      "metadata": {
        "colab": {
          "base_uri": "https://localhost:8080/"
        },
        "id": "8xQxr43Gk_8T",
        "outputId": "2659a34e-14fe-41fe-acd5-f80ed2d6caf7"
      },
      "execution_count": 4,
      "outputs": [
        {
          "output_type": "stream",
          "name": "stdout",
          "text": [
            "[1. 1. 1. 1. 1. 1. 1. 1. 1. 1.]\n"
          ]
        }
      ]
    },
    {
      "cell_type": "markdown",
      "source": [
        "создать массив из 10 пятерок"
      ],
      "metadata": {
        "id": "m7JtjnlkmvBg"
      }
    },
    {
      "cell_type": "code",
      "source": [
        "c=np.array([5,5,5,5,5,5,5,5,5,5])\n",
        "print(c)"
      ],
      "metadata": {
        "colab": {
          "base_uri": "https://localhost:8080/"
        },
        "id": "d8pWwOU8nB-f",
        "outputId": "4e106a0b-65f5-4660-cfd4-81f6509bd117"
      },
      "execution_count": 5,
      "outputs": [
        {
          "output_type": "stream",
          "name": "stdout",
          "text": [
            "[5 5 5 5 5 5 5 5 5 5]\n"
          ]
        }
      ]
    },
    {
      "cell_type": "markdown",
      "source": [
        "создать массив из целых чисел от 10 до 50"
      ],
      "metadata": {
        "id": "Q6i3dYNZk7Io"
      }
    },
    {
      "cell_type": "code",
      "source": [
        "d=np.linspace(10,50,41)\n",
        "print(d)"
      ],
      "metadata": {
        "colab": {
          "base_uri": "https://localhost:8080/"
        },
        "id": "t9bLBrCtnaT3",
        "outputId": "8de14e98-f495-4570-c7f5-2555cc931c6c"
      },
      "execution_count": 6,
      "outputs": [
        {
          "output_type": "stream",
          "name": "stdout",
          "text": [
            "[10. 11. 12. 13. 14. 15. 16. 17. 18. 19. 20. 21. 22. 23. 24. 25. 26. 27.\n",
            " 28. 29. 30. 31. 32. 33. 34. 35. 36. 37. 38. 39. 40. 41. 42. 43. 44. 45.\n",
            " 46. 47. 48. 49. 50.]\n"
          ]
        }
      ]
    },
    {
      "cell_type": "markdown",
      "source": [
        "создать массив из четных чисел от 10 до 50"
      ],
      "metadata": {
        "id": "Kw_Ile5pn4g_"
      }
    },
    {
      "cell_type": "code",
      "source": [
        "f=np.arange(10,50,2)\n",
        "print(f)"
      ],
      "metadata": {
        "colab": {
          "base_uri": "https://localhost:8080/"
        },
        "id": "hVZiH38AqTUQ",
        "outputId": "53970d2c-4275-4715-e0cf-26ce6b788879"
      },
      "execution_count": 7,
      "outputs": [
        {
          "output_type": "stream",
          "name": "stdout",
          "text": [
            "[10 12 14 16 18 20 22 24 26 28 30 32 34 36 38 40 42 44 46 48]\n"
          ]
        }
      ]
    },
    {
      "cell_type": "markdown",
      "source": [
        "создать матрицу 3*3 с числами от 0 до 8"
      ],
      "metadata": {
        "id": "iBxUyfV4qjR3"
      }
    },
    {
      "cell_type": "code",
      "source": [
        "g=np.array([[0,1,2],[3,4,5],[6,7,8]])\n",
        "print(g)"
      ],
      "metadata": {
        "colab": {
          "base_uri": "https://localhost:8080/"
        },
        "id": "I7K3jxvGqo2H",
        "outputId": "8f55d731-4109-4974-ea53-c84a9c34cbbe"
      },
      "execution_count": 8,
      "outputs": [
        {
          "output_type": "stream",
          "name": "stdout",
          "text": [
            "[[0 1 2]\n",
            " [3 4 5]\n",
            " [6 7 8]]\n"
          ]
        }
      ]
    },
    {
      "cell_type": "markdown",
      "source": [
        "создайте единичную матрицу"
      ],
      "metadata": {
        "id": "oTYGuwiQt5z4"
      }
    },
    {
      "cell_type": "code",
      "source": [
        "h=np.ones((3,3))\n",
        "\n",
        "print(h)"
      ],
      "metadata": {
        "colab": {
          "base_uri": "https://localhost:8080/"
        },
        "id": "r9Nr1VMMt-BN",
        "outputId": "053c9f2f-e4e1-48f8-c622-a958a3b31d7e"
      },
      "execution_count": 9,
      "outputs": [
        {
          "output_type": "stream",
          "name": "stdout",
          "text": [
            "[[1. 1. 1.]\n",
            " [1. 1. 1.]\n",
            " [1. 1. 1.]]\n"
          ]
        }
      ]
    },
    {
      "cell_type": "markdown",
      "source": [
        "Используйте NumPy для генерации случайного числа от 0 до 1"
      ],
      "metadata": {
        "id": "MwG3dEB0uvlv"
      }
    },
    {
      "cell_type": "code",
      "source": [
        "j=np.random.random()\n",
        "print(j)"
      ],
      "metadata": {
        "colab": {
          "base_uri": "https://localhost:8080/"
        },
        "id": "X_JqxNj6u2hw",
        "outputId": "59a6bb79-4ef6-4068-92c8-57ad5d435520"
      },
      "execution_count": 10,
      "outputs": [
        {
          "output_type": "stream",
          "name": "stdout",
          "text": [
            "0.9337035188341767\n"
          ]
        }
      ]
    },
    {
      "cell_type": "markdown",
      "source": [
        "Используйте NumPy для генерации массива из 25 случайных чисел,взятых из стандартного нормального распределения"
      ],
      "metadata": {
        "id": "9S-9MClswSF0"
      }
    },
    {
      "cell_type": "code",
      "source": [
        "k1=np.random.randn(25)\n",
        "print(k1)"
      ],
      "metadata": {
        "colab": {
          "base_uri": "https://localhost:8080/"
        },
        "id": "g6MByOYi0qju",
        "outputId": "a6bd31b9-5929-4e62-9c45-313713f66be8"
      },
      "execution_count": 17,
      "outputs": [
        {
          "output_type": "stream",
          "name": "stdout",
          "text": [
            "[-0.17205981 -1.45161398 -1.07264606 -0.05317918 -1.43063324  1.05931336\n",
            " -0.70315649  2.46391505  0.45795507 -0.10426593 -0.22596368 -0.66520238\n",
            " -0.43469744 -1.94670354 -2.75968433 -0.05778605  0.56604162 -0.62383477\n",
            "  1.1205319  -1.46483731 -0.18033519 -0.98089108  0.85867381 -0.18189234\n",
            "  1.02432974]\n"
          ]
        }
      ]
    },
    {
      "cell_type": "markdown",
      "source": [
        "Создайте следующую матрицу используя функции библиотеки NumPy"
      ],
      "metadata": {
        "id": "w2NbxFZ7xIyn"
      }
    },
    {
      "cell_type": "code",
      "source": [
        "l=np.linspace(0.01,1.,100).round(2)\n",
        "z=l.reshape(10,10)\n",
        "print(z)"
      ],
      "metadata": {
        "colab": {
          "base_uri": "https://localhost:8080/"
        },
        "id": "Wm3UUUfIatjW",
        "outputId": "0164c12c-1eb0-4ca3-e47a-d429cf562532"
      },
      "execution_count": 48,
      "outputs": [
        {
          "output_type": "stream",
          "name": "stdout",
          "text": [
            "[[0.01 0.02 0.03 0.04 0.05 0.06 0.07 0.08 0.09 0.1 ]\n",
            " [0.11 0.12 0.13 0.14 0.15 0.16 0.17 0.18 0.19 0.2 ]\n",
            " [0.21 0.22 0.23 0.24 0.25 0.26 0.27 0.28 0.29 0.3 ]\n",
            " [0.31 0.32 0.33 0.34 0.35 0.36 0.37 0.38 0.39 0.4 ]\n",
            " [0.41 0.42 0.43 0.44 0.45 0.46 0.47 0.48 0.49 0.5 ]\n",
            " [0.51 0.52 0.53 0.54 0.55 0.56 0.57 0.58 0.59 0.6 ]\n",
            " [0.61 0.62 0.63 0.64 0.65 0.66 0.67 0.68 0.69 0.7 ]\n",
            " [0.71 0.72 0.73 0.74 0.75 0.76 0.77 0.78 0.79 0.8 ]\n",
            " [0.81 0.82 0.83 0.84 0.85 0.86 0.87 0.88 0.89 0.9 ]\n",
            " [0.91 0.92 0.93 0.94 0.95 0.96 0.97 0.98 0.99 1.  ]]\n"
          ]
        }
      ]
    },
    {
      "cell_type": "markdown",
      "source": [
        "Стартовая матрица"
      ],
      "metadata": {
        "id": "lZX5L9U25hAH"
      }
    },
    {
      "cell_type": "code",
      "source": [
        "mat=np.arange(1,26).reshape(5,5)\n",
        "print(mat)"
      ],
      "metadata": {
        "colab": {
          "base_uri": "https://localhost:8080/"
        },
        "id": "FWw-7v0S5kON",
        "outputId": "1c951ae7-d9a7-4c39-bf99-10ed4c7a50ef"
      },
      "execution_count": null,
      "outputs": [
        {
          "output_type": "stream",
          "name": "stdout",
          "text": [
            "[[ 1  2  3  4  5]\n",
            " [ 6  7  8  9 10]\n",
            " [11 12 13 14 15]\n",
            " [16 17 18 19 20]\n",
            " [21 22 23 24 25]]\n"
          ]
        }
      ]
    },
    {
      "cell_type": "markdown",
      "source": [
        "написать код к стартовой матрице"
      ],
      "metadata": {
        "id": "8tWEuDKn_BGp"
      }
    },
    {
      "cell_type": "code",
      "source": [
        "print(mat[2:5,1:5])"
      ],
      "metadata": {
        "colab": {
          "base_uri": "https://localhost:8080/"
        },
        "id": "LI3wlCVQ_ouM",
        "outputId": "4eabc494-5c8d-4fdb-ff29-067522b435cd"
      },
      "execution_count": null,
      "outputs": [
        {
          "output_type": "stream",
          "name": "stdout",
          "text": [
            "[[12 13 14 15]\n",
            " [17 18 19 20]\n",
            " [22 23 24 25]]\n"
          ]
        }
      ]
    },
    {
      "cell_type": "code",
      "source": [
        "print(\"mat[3,4]=\",mat[3,4])"
      ],
      "metadata": {
        "colab": {
          "base_uri": "https://localhost:8080/"
        },
        "id": "J1iwJ8CxuiHG",
        "outputId": "79c50bbf-20e6-43e9-e93f-588a852815ed"
      },
      "execution_count": null,
      "outputs": [
        {
          "output_type": "stream",
          "name": "stdout",
          "text": [
            "mat[3,4]= 20\n"
          ]
        }
      ]
    },
    {
      "cell_type": "code",
      "source": [
        "print(mat[0:3,1:2])"
      ],
      "metadata": {
        "colab": {
          "base_uri": "https://localhost:8080/"
        },
        "id": "s67yp1_qwEkP",
        "outputId": "787eb1c2-dbe6-417c-8464-7ec4eb13d9b7"
      },
      "execution_count": null,
      "outputs": [
        {
          "output_type": "stream",
          "name": "stdout",
          "text": [
            "[[ 2]\n",
            " [ 7]\n",
            " [12]]\n"
          ]
        }
      ]
    },
    {
      "cell_type": "code",
      "source": [
        "print(\"mat[-1]=\",mat[-1])"
      ],
      "metadata": {
        "colab": {
          "base_uri": "https://localhost:8080/"
        },
        "id": "uIQ8CCKixGzV",
        "outputId": "7371dd50-77b1-42be-e383-eee777400512"
      },
      "execution_count": null,
      "outputs": [
        {
          "output_type": "stream",
          "name": "stdout",
          "text": [
            "mat[-1]= [21 22 23 24 25]\n"
          ]
        }
      ]
    },
    {
      "cell_type": "code",
      "source": [
        "print(mat[3:5,0:5])"
      ],
      "metadata": {
        "colab": {
          "base_uri": "https://localhost:8080/"
        },
        "id": "YDoFOogdxjVw",
        "outputId": "a47c71b5-6a1f-4c76-884a-5882bca54004"
      },
      "execution_count": null,
      "outputs": [
        {
          "output_type": "stream",
          "name": "stdout",
          "text": [
            "[[16 17 18 19 20]\n",
            " [21 22 23 24 25]]\n"
          ]
        }
      ]
    },
    {
      "cell_type": "code",
      "source": [
        "total=np.sum(mat)\n",
        "print(f'Сумма всех элементов {total}')"
      ],
      "metadata": {
        "colab": {
          "base_uri": "https://localhost:8080/"
        },
        "id": "Y5lfg4l2yx1n",
        "outputId": "4d84a218-4483-4f5b-800a-9b71db3afa4b"
      },
      "execution_count": null,
      "outputs": [
        {
          "output_type": "stream",
          "name": "stdout",
          "text": [
            "Сумма всех элементов 325\n"
          ]
        }
      ]
    },
    {
      "cell_type": "code",
      "source": [
        "print(np.std(mat))"
      ],
      "metadata": {
        "colab": {
          "base_uri": "https://localhost:8080/"
        },
        "id": "HGHN0EOw05qn",
        "outputId": "934d9f21-c296-4898-e5eb-fd0717dc9f64"
      },
      "execution_count": null,
      "outputs": [
        {
          "output_type": "stream",
          "name": "stdout",
          "text": [
            "7.211102550927978\n"
          ]
        }
      ]
    },
    {
      "cell_type": "code",
      "source": [
        "print(mat.sum(axis=0))"
      ],
      "metadata": {
        "colab": {
          "base_uri": "https://localhost:8080/"
        },
        "id": "8DiIuA0D2k4p",
        "outputId": "d3a65416-bc0d-4488-9618-b519ccefb879"
      },
      "execution_count": null,
      "outputs": [
        {
          "output_type": "stream",
          "name": "stdout",
          "text": [
            "[55 60 65 70 75]\n"
          ]
        }
      ]
    }
  ]
}