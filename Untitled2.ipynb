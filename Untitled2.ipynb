{
  "nbformat": 4,
  "nbformat_minor": 0,
  "metadata": {
    "colab": {
      "provenance": [],
      "authorship_tag": "ABX9TyMs5ZG6/AXJbKfmyD7fsLzV",
      "include_colab_link": true
    },
    "kernelspec": {
      "name": "python3",
      "display_name": "Python 3"
    },
    "language_info": {
      "name": "python"
    }
  },
  "cells": [
    {
      "cell_type": "markdown",
      "metadata": {
        "id": "view-in-github",
        "colab_type": "text"
      },
      "source": [
        "<a href=\"https://colab.research.google.com/github/CheninaLena/Numpy/blob/main/Untitled2.ipynb\" target=\"_parent\"><img src=\"https://colab.research.google.com/assets/colab-badge.svg\" alt=\"Open In Colab\"/></a>"
      ]
    },
    {
      "cell_type": "code",
      "execution_count": null,
      "metadata": {
        "colab": {
          "base_uri": "https://localhost:8080/"
        },
        "id": "WtPBD2yJiNO1",
        "outputId": "9a272166-d905-421f-c474-15140554dfaa"
      },
      "outputs": [
        {
          "output_type": "stream",
          "name": "stdout",
          "text": [
            "Hi!\n"
          ]
        }
      ],
      "source": [
        "print('Hi!')"
      ]
    },
    {
      "cell_type": "markdown",
      "source": [
        "Импортируйте библиотеку NunPy"
      ],
      "metadata": {
        "id": "eDOlq74bign_"
      }
    },
    {
      "cell_type": "code",
      "source": [
        "import numpy as np"
      ],
      "metadata": {
        "id": "Oin4ZcuyinPf"
      },
      "execution_count": null,
      "outputs": []
    },
    {
      "cell_type": "markdown",
      "source": [
        "создайте массив из 10 нулей"
      ],
      "metadata": {
        "id": "rpt-z6qCitF3"
      }
    },
    {
      "cell_type": "code",
      "source": [
        "a=np.zeros(10)\n",
        "print(a)"
      ],
      "metadata": {
        "colab": {
          "base_uri": "https://localhost:8080/"
        },
        "id": "0AcuMDAHiyg_",
        "outputId": "f6a0f9b3-1f0f-49e6-bdc5-fcfa42d897b5"
      },
      "execution_count": null,
      "outputs": [
        {
          "output_type": "stream",
          "name": "stdout",
          "text": [
            "[0. 0. 0. 0. 0. 0. 0. 0. 0. 0.]\n"
          ]
        }
      ]
    },
    {
      "cell_type": "markdown",
      "source": [
        "создайте массив из 10 единиц"
      ],
      "metadata": {
        "id": "B4Ywg6RslBz3"
      }
    },
    {
      "cell_type": "code",
      "source": [
        "b=np.ones(10)\n",
        "print(b)"
      ],
      "metadata": {
        "colab": {
          "base_uri": "https://localhost:8080/"
        },
        "id": "8xQxr43Gk_8T",
        "outputId": "04de5b45-c043-4678-ff26-d6483db5b628"
      },
      "execution_count": null,
      "outputs": [
        {
          "output_type": "stream",
          "name": "stdout",
          "text": [
            "[1. 1. 1. 1. 1. 1. 1. 1. 1. 1.]\n"
          ]
        }
      ]
    },
    {
      "cell_type": "markdown",
      "source": [
        "создать массив из 10 пятерок"
      ],
      "metadata": {
        "id": "m7JtjnlkmvBg"
      }
    },
    {
      "cell_type": "code",
      "source": [
        "c=np.array([5,5,5,5,5,5,5,5,5,5])\n",
        "print(c)"
      ],
      "metadata": {
        "colab": {
          "base_uri": "https://localhost:8080/"
        },
        "id": "d8pWwOU8nB-f",
        "outputId": "98bb7984-af50-41ad-e0ce-a8c0eac392a7"
      },
      "execution_count": null,
      "outputs": [
        {
          "output_type": "stream",
          "name": "stdout",
          "text": [
            "[5 5 5 5 5 5 5 5 5 5]\n"
          ]
        }
      ]
    },
    {
      "cell_type": "markdown",
      "source": [
        "создать массив из целых чисел от 10 до 50"
      ],
      "metadata": {
        "id": "Q6i3dYNZk7Io"
      }
    },
    {
      "cell_type": "code",
      "source": [
        "d=np.linspace(10,50,41)\n",
        "print(d)"
      ],
      "metadata": {
        "colab": {
          "base_uri": "https://localhost:8080/"
        },
        "id": "t9bLBrCtnaT3",
        "outputId": "2e6740ed-ad4a-47a2-efa7-171294125b48"
      },
      "execution_count": null,
      "outputs": [
        {
          "output_type": "stream",
          "name": "stdout",
          "text": [
            "[10. 11. 12. 13. 14. 15. 16. 17. 18. 19. 20. 21. 22. 23. 24. 25. 26. 27.\n",
            " 28. 29. 30. 31. 32. 33. 34. 35. 36. 37. 38. 39. 40. 41. 42. 43. 44. 45.\n",
            " 46. 47. 48. 49. 50.]\n"
          ]
        }
      ]
    },
    {
      "cell_type": "markdown",
      "source": [
        "создать массив из четных чисел от 10 до 50"
      ],
      "metadata": {
        "id": "Kw_Ile5pn4g_"
      }
    },
    {
      "cell_type": "code",
      "source": [
        "f=np.arange(10,50,2)\n",
        "print(f)"
      ],
      "metadata": {
        "colab": {
          "base_uri": "https://localhost:8080/"
        },
        "id": "hVZiH38AqTUQ",
        "outputId": "4bfd5354-3f54-4707-bb15-5ccef5967165"
      },
      "execution_count": null,
      "outputs": [
        {
          "output_type": "stream",
          "name": "stdout",
          "text": [
            "[10 12 14 16 18 20 22 24 26 28 30 32 34 36 38 40 42 44 46 48]\n"
          ]
        }
      ]
    },
    {
      "cell_type": "markdown",
      "source": [
        "создать матрицу 3*3 с числами от 0 до 8"
      ],
      "metadata": {
        "id": "iBxUyfV4qjR3"
      }
    },
    {
      "cell_type": "code",
      "source": [
        "g=np.array([[0,1,2],[3,4,5],[6,7,8]])\n",
        "print(g)"
      ],
      "metadata": {
        "colab": {
          "base_uri": "https://localhost:8080/"
        },
        "id": "I7K3jxvGqo2H",
        "outputId": "e2a2e4d9-19f2-4b9b-bc27-e0e14652a17c"
      },
      "execution_count": null,
      "outputs": [
        {
          "output_type": "stream",
          "name": "stdout",
          "text": [
            "[[0 1 2]\n",
            " [3 4 5]\n",
            " [6 7 8]]\n"
          ]
        }
      ]
    },
    {
      "cell_type": "markdown",
      "source": [
        "создайте единичную матрицу"
      ],
      "metadata": {
        "id": "oTYGuwiQt5z4"
      }
    },
    {
      "cell_type": "code",
      "source": [
        "h=np.ones((3,3))\n",
        "\n",
        "print(h)"
      ],
      "metadata": {
        "colab": {
          "base_uri": "https://localhost:8080/"
        },
        "id": "r9Nr1VMMt-BN",
        "outputId": "f854e873-76a0-4d04-b1fd-dd25fef106d5"
      },
      "execution_count": null,
      "outputs": [
        {
          "output_type": "stream",
          "name": "stdout",
          "text": [
            "[[1. 1. 1.]\n",
            " [1. 1. 1.]\n",
            " [1. 1. 1.]]\n"
          ]
        }
      ]
    },
    {
      "cell_type": "markdown",
      "source": [
        "Используйте NumPy для генерации случайного числа от 0 до 1"
      ],
      "metadata": {
        "id": "MwG3dEB0uvlv"
      }
    },
    {
      "cell_type": "code",
      "source": [
        "j=np.random.random()\n",
        "print(j)"
      ],
      "metadata": {
        "colab": {
          "base_uri": "https://localhost:8080/"
        },
        "id": "X_JqxNj6u2hw",
        "outputId": "cbab2922-a03b-4296-e30e-d58dcff9d9f4"
      },
      "execution_count": null,
      "outputs": [
        {
          "output_type": "stream",
          "name": "stdout",
          "text": [
            "0.20979262194946346\n"
          ]
        }
      ]
    },
    {
      "cell_type": "markdown",
      "source": [
        "Используйте NumPy для генерации массива из 25 случайных чисел,взятых из стандартного нормального распределения"
      ],
      "metadata": {
        "id": "9S-9MClswSF0"
      }
    },
    {
      "cell_type": "code",
      "source": [
        "k=np.random.randint(0,24,(5,5))\n",
        "print(k)"
      ],
      "metadata": {
        "colab": {
          "base_uri": "https://localhost:8080/"
        },
        "id": "Bqt2t2t1vRtH",
        "outputId": "2015cc95-e53f-433a-e16e-30b57420c9dc"
      },
      "execution_count": null,
      "outputs": [
        {
          "output_type": "stream",
          "name": "stdout",
          "text": [
            "[[17  5 12 13 14]\n",
            " [14  2 19 18 17]\n",
            " [ 9 19 14 18 12]\n",
            " [21  2  6 14  6]\n",
            " [10 14  0  2 15]]\n"
          ]
        }
      ]
    },
    {
      "cell_type": "markdown",
      "source": [
        "Создайте следующую матрицу используя функции библиотеки NumPy"
      ],
      "metadata": {
        "id": "w2NbxFZ7xIyn"
      }
    },
    {
      "cell_type": "code",
      "source": [
        "l=np.linspace(0.1,1,100).round(2)\n",
        "z=l.reshape(10,10)\n",
        "print(z)\n"
      ],
      "metadata": {
        "colab": {
          "base_uri": "https://localhost:8080/"
        },
        "id": "oricqaolxUrR",
        "outputId": "27763191-c800-4845-8d24-17af6eb95093"
      },
      "execution_count": null,
      "outputs": [
        {
          "output_type": "stream",
          "name": "stdout",
          "text": [
            "[[0.1  0.11 0.12 0.13 0.14 0.15 0.15 0.16 0.17 0.18]\n",
            " [0.19 0.2  0.21 0.22 0.23 0.24 0.25 0.25 0.26 0.27]\n",
            " [0.28 0.29 0.3  0.31 0.32 0.33 0.34 0.35 0.35 0.36]\n",
            " [0.37 0.38 0.39 0.4  0.41 0.42 0.43 0.44 0.45 0.45]\n",
            " [0.46 0.47 0.48 0.49 0.5  0.51 0.52 0.53 0.54 0.55]\n",
            " [0.55 0.56 0.57 0.58 0.59 0.6  0.61 0.62 0.63 0.64]\n",
            " [0.65 0.65 0.66 0.67 0.68 0.69 0.7  0.71 0.72 0.73]\n",
            " [0.74 0.75 0.75 0.76 0.77 0.78 0.79 0.8  0.81 0.82]\n",
            " [0.83 0.84 0.85 0.85 0.86 0.87 0.88 0.89 0.9  0.91]\n",
            " [0.92 0.93 0.94 0.95 0.95 0.96 0.97 0.98 0.99 1.  ]]\n"
          ]
        }
      ]
    },
    {
      "cell_type": "markdown",
      "source": [
        "Стартовая матрица"
      ],
      "metadata": {
        "id": "lZX5L9U25hAH"
      }
    },
    {
      "cell_type": "code",
      "source": [
        "mat=np.arange(1,26).reshape(5,5)\n",
        "print(mat)"
      ],
      "metadata": {
        "colab": {
          "base_uri": "https://localhost:8080/"
        },
        "id": "FWw-7v0S5kON",
        "outputId": "1c951ae7-d9a7-4c39-bf99-10ed4c7a50ef"
      },
      "execution_count": null,
      "outputs": [
        {
          "output_type": "stream",
          "name": "stdout",
          "text": [
            "[[ 1  2  3  4  5]\n",
            " [ 6  7  8  9 10]\n",
            " [11 12 13 14 15]\n",
            " [16 17 18 19 20]\n",
            " [21 22 23 24 25]]\n"
          ]
        }
      ]
    },
    {
      "cell_type": "markdown",
      "source": [
        "написать код к стартовой матрице"
      ],
      "metadata": {
        "id": "8tWEuDKn_BGp"
      }
    },
    {
      "cell_type": "code",
      "source": [
        "print(mat[2:5,1:5])"
      ],
      "metadata": {
        "colab": {
          "base_uri": "https://localhost:8080/"
        },
        "id": "LI3wlCVQ_ouM",
        "outputId": "4eabc494-5c8d-4fdb-ff29-067522b435cd"
      },
      "execution_count": null,
      "outputs": [
        {
          "output_type": "stream",
          "name": "stdout",
          "text": [
            "[[12 13 14 15]\n",
            " [17 18 19 20]\n",
            " [22 23 24 25]]\n"
          ]
        }
      ]
    },
    {
      "cell_type": "code",
      "source": [
        "print(\"mat[3,4]=\",mat[3,4])"
      ],
      "metadata": {
        "colab": {
          "base_uri": "https://localhost:8080/"
        },
        "id": "J1iwJ8CxuiHG",
        "outputId": "79c50bbf-20e6-43e9-e93f-588a852815ed"
      },
      "execution_count": null,
      "outputs": [
        {
          "output_type": "stream",
          "name": "stdout",
          "text": [
            "mat[3,4]= 20\n"
          ]
        }
      ]
    },
    {
      "cell_type": "code",
      "source": [
        "print(mat[0:3,1:2])"
      ],
      "metadata": {
        "colab": {
          "base_uri": "https://localhost:8080/"
        },
        "id": "s67yp1_qwEkP",
        "outputId": "787eb1c2-dbe6-417c-8464-7ec4eb13d9b7"
      },
      "execution_count": null,
      "outputs": [
        {
          "output_type": "stream",
          "name": "stdout",
          "text": [
            "[[ 2]\n",
            " [ 7]\n",
            " [12]]\n"
          ]
        }
      ]
    },
    {
      "cell_type": "code",
      "source": [
        "print(\"mat[-1]=\",mat[-1])"
      ],
      "metadata": {
        "colab": {
          "base_uri": "https://localhost:8080/"
        },
        "id": "uIQ8CCKixGzV",
        "outputId": "7371dd50-77b1-42be-e383-eee777400512"
      },
      "execution_count": null,
      "outputs": [
        {
          "output_type": "stream",
          "name": "stdout",
          "text": [
            "mat[-1]= [21 22 23 24 25]\n"
          ]
        }
      ]
    },
    {
      "cell_type": "code",
      "source": [
        "print(mat[3:5,0:5])"
      ],
      "metadata": {
        "colab": {
          "base_uri": "https://localhost:8080/"
        },
        "id": "YDoFOogdxjVw",
        "outputId": "a47c71b5-6a1f-4c76-884a-5882bca54004"
      },
      "execution_count": 53,
      "outputs": [
        {
          "output_type": "stream",
          "name": "stdout",
          "text": [
            "[[16 17 18 19 20]\n",
            " [21 22 23 24 25]]\n"
          ]
        }
      ]
    },
    {
      "cell_type": "code",
      "source": [
        "total=np.sum(mat)\n",
        "print(f'Сумма всех элементов {total}')"
      ],
      "metadata": {
        "colab": {
          "base_uri": "https://localhost:8080/"
        },
        "id": "Y5lfg4l2yx1n",
        "outputId": "4d84a218-4483-4f5b-800a-9b71db3afa4b"
      },
      "execution_count": 55,
      "outputs": [
        {
          "output_type": "stream",
          "name": "stdout",
          "text": [
            "Сумма всех элементов 325\n"
          ]
        }
      ]
    },
    {
      "cell_type": "code",
      "source": [
        "print(np.std(mat))"
      ],
      "metadata": {
        "colab": {
          "base_uri": "https://localhost:8080/"
        },
        "id": "HGHN0EOw05qn",
        "outputId": "934d9f21-c296-4898-e5eb-fd0717dc9f64"
      },
      "execution_count": 56,
      "outputs": [
        {
          "output_type": "stream",
          "name": "stdout",
          "text": [
            "7.211102550927978\n"
          ]
        }
      ]
    },
    {
      "cell_type": "code",
      "source": [
        "print(mat.sum(axis=0))"
      ],
      "metadata": {
        "colab": {
          "base_uri": "https://localhost:8080/"
        },
        "id": "8DiIuA0D2k4p",
        "outputId": "d3a65416-bc0d-4488-9618-b519ccefb879"
      },
      "execution_count": 57,
      "outputs": [
        {
          "output_type": "stream",
          "name": "stdout",
          "text": [
            "[55 60 65 70 75]\n"
          ]
        }
      ]
    }
  ]
}